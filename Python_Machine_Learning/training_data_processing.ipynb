{
 "cells": [
  {
   "cell_type": "markdown",
   "metadata": {},
   "source": [
    "## Import"
   ]
  },
  {
   "cell_type": "code",
   "execution_count": null,
   "metadata": {},
   "outputs": [],
   "source": [
    "import pandas as pd"
   ]
  },
  {
   "cell_type": "markdown",
   "metadata": {},
   "source": [
    "## Read data"
   ]
  },
  {
   "cell_type": "code",
   "execution_count": null,
   "metadata": {},
   "outputs": [],
   "source": [
    "data = pd.read_csv('your data path', sep=\"\\t\")"
   ]
  },
  {
   "cell_type": "markdown",
   "metadata": {},
   "source": [
    "## Some Data Processing"
   ]
  },
  {
   "cell_type": "code",
   "execution_count": null,
   "metadata": {},
   "outputs": [],
   "source": [
    "data = data.drop(columns=['C', 'W', 'D', 'P', 'Unnamed: 12'])\n",
    "data.loc[data['GC'] == 'Non-GC', 'GC'] = 0\n",
    "data.loc[data['GC'] == 'GC', 'GC'] = 1\n",
    "data = data[data['Timetick'] != 0] "
   ]
  },
  {
   "cell_type": "markdown",
   "metadata": {},
   "source": [
    "## See some data status"
   ]
  },
  {
   "cell_type": "code",
   "execution_count": null,
   "metadata": {
    "scrolled": true
   },
   "outputs": [],
   "source": [
    "# timetick dtype are int64\n",
    "print( 'timetick max : ', data['Timetick'].max())\n",
    "print( 'timetick min : ', data['Timetick'].min())\n",
    "print( 'victim_block_invalid_page max : ', data['victim_block_invalid_page'].max())\n",
    "print( 'victim_block_invalid_page min : ', data['victim_block_invalid_page'].min())\n",
    "print( 'victim_block_invalid_page mean : ', data['victim_block_invalid_page'].mean())\n",
    "print( 'victim_block_invalid_page quantile : ', data['victim_block_invalid_page'].quantile(.75))\n",
    "print( 'victim_block_invalid_page median : ', data['victim_block_invalid_page'].median())\n",
    "print( 'queue size : ', data['queue_size'].max())\n",
    "print( 'free block min: ', data['freeblocks'].min())\n",
    "# freeblock max 2048"
   ]
  },
  {
   "cell_type": "markdown",
   "metadata": {},
   "source": [
    "## Timetick and Free Blocks Normorlization"
   ]
  },
  {
   "cell_type": "code",
   "execution_count": null,
   "metadata": {},
   "outputs": [],
   "source": [
    "data['Timetick'] = (data['Timetick'] - data['Timetick'].min()) / (data['Timetick'].max() - data['Timetick'].min())\n",
    "data['freeblocks'] = data['freeblocks'] / 2048"
   ]
  },
  {
   "cell_type": "markdown",
   "metadata": {},
   "source": [
    "## Seperate GC and NonGC"
   ]
  },
  {
   "cell_type": "code",
   "execution_count": null,
   "metadata": {},
   "outputs": [],
   "source": [
    "gc = data[data['GC'] == 1]\n",
    "ngc = data[data['GC'] == 0]"
   ]
  },
  {
   "cell_type": "markdown",
   "metadata": {},
   "source": [
    "## GC Transaction Queue and the invalid pages of victim block Normalization"
   ]
  },
  {
   "cell_type": "code",
   "execution_count": null,
   "metadata": {
    "scrolled": true
   },
   "outputs": [],
   "source": [
    "data['queue_size'] = (data['queue_size'] - data['queue_size'].min()) / (data['queue_size'].max() - data['queue_size'].min())\n",
    "data['victim_block_invalid_page'] = (data['victim_block_invalid_page'] - data['victim_block_invalid_page'].min()) / (data['victim_block_invalid_page'].max() - data['victim_block_invalid_page'].min())"
   ]
  },
  {
   "cell_type": "markdown",
   "metadata": {},
   "source": [
    "## if __queue_size>0__ and __GC = 1__  random choose some data __GC = 1 -> GC = 0__ \n",
    "#### the queue size > 0 and keep doing GC will increase the GC overhead( I/O traffic )\n"
   ]
  },
  {
   "cell_type": "code",
   "execution_count": null,
   "metadata": {},
   "outputs": [],
   "source": [
    "noise = data[data['queue_size'] > 0]\n",
    "noise.shape\n",
    "noise = noise[noise['GC'] == 1]\n",
    "print('queue _size > 0 ', noise.shape)\n",
    "qGCtoNonGC = noise.sample( n=\"depend your data\", random_state=1)\n",
    "qGCtoNonGC['GC'] = 0\n",
    "print('randomly select ', qGCtoNonGC.shape)"
   ]
  },
  {
   "cell_type": "markdown",
   "metadata": {},
   "source": [
    "## drop the data you random select"
   ]
  },
  {
   "cell_type": "code",
   "execution_count": null,
   "metadata": {},
   "outputs": [],
   "source": [
    "noise_q = noise.drop(qGCtoNonGC.index)"
   ]
  },
  {
   "cell_type": "code",
   "execution_count": null,
   "metadata": {},
   "outputs": [],
   "source": [
    "print(noise_q.shape)\n",
    "print(noise.shape)"
   ]
  },
  {
   "cell_type": "markdown",
   "metadata": {},
   "source": [
    "## Also drop the noise from origin data"
   ]
  },
  {
   "cell_type": "code",
   "execution_count": null,
   "metadata": {},
   "outputs": [],
   "source": [
    "print(data.shape)\n",
    "data = data.drop(noise.index)\n",
    "print(data.shape)"
   ]
  },
  {
   "cell_type": "markdown",
   "metadata": {},
   "source": [
    "## If the invalid pages of victim block < third quatile\n",
    "### We need label the data from GC to NonGC( Avoid increasing GC overhead )"
   ]
  },
  {
   "cell_type": "code",
   "execution_count": null,
   "metadata": {},
   "outputs": [],
   "source": [
    "# victim block invalid page < third quatile GC->NonGC\n",
    "noise_victim = data[data['victim_block_invalid_page'] < data['victim_block_invalid_page'].quantile(.75)]\n",
    "# print(noise_victim.shape)\n",
    "noise_victim = noise_victim[noise_victim['GC'] == 1]\n",
    "print(noise_victim.shape)"
   ]
  },
  {
   "cell_type": "markdown",
   "metadata": {},
   "source": [
    "#### vGCtoNonGC -> a list of invalid pages of victim block from GC to NonGC"
   ]
  },
  {
   "cell_type": "code",
   "execution_count": null,
   "metadata": {},
   "outputs": [],
   "source": [
    "vGCtoNonGC = noise_victim.sample( n=\"depend your data\", random_state=1)\n",
    "vGCtoNonGC['GC'] = 0\n",
    "print(vGCtoNonGC.shape)"
   ]
  },
  {
   "cell_type": "code",
   "execution_count": null,
   "metadata": {},
   "outputs": [],
   "source": [
    "noise_victimGC = noise_victim.drop(vGCtoNonGC.index)\n",
    "print(noise_victim.shape)\n",
    "print(noise_victimGC.shape)"
   ]
  },
  {
   "cell_type": "code",
   "execution_count": null,
   "metadata": {},
   "outputs": [],
   "source": [
    "print(data.shape)\n",
    "data = data.drop(noise_victim.index)\n",
    "print(data.shape)"
   ]
  },
  {
   "cell_type": "code",
   "execution_count": null,
   "metadata": {},
   "outputs": [],
   "source": [
    "GC = data[data['GC'] == 1]\n",
    "nonGC = data[data['GC'] == 0]\n",
    "print(GC.shape)\n",
    "print(nonGC.shape)"
   ]
  },
  {
   "cell_type": "markdown",
   "metadata": {},
   "source": [
    "### Merge every list of noise data"
   ]
  },
  {
   "cell_type": "code",
   "execution_count": null,
   "metadata": {},
   "outputs": [],
   "source": [
    "noise_GC = noise_q.append(noise_victimGC, ignore_index=True)\n",
    "noise_nonGC = qGCtoNonGC.append(vGCtoNonGC, ignore_index=True)\n",
    "print(noise_GC.shape)\n",
    "print(noise_nonGC.shape)"
   ]
  },
  {
   "cell_type": "markdown",
   "metadata": {},
   "source": [
    "### Random select the original data GC and NonGC\n",
    "### Merge the noise data to be a training data"
   ]
  },
  {
   "cell_type": "code",
   "execution_count": null,
   "metadata": {},
   "outputs": [],
   "source": [
    "GC_total = GC.sample( n=\"depend your data\", random_state=1 )\n",
    "data = data.drop(GC_total.index)\n",
    "GC_total = GC_total.append(noise_GC, ignore_index=True)\n",
    "print(GC_total.shape)"
   ]
  },
  {
   "cell_type": "code",
   "execution_count": null,
   "metadata": {},
   "outputs": [],
   "source": [
    "nonGC_total = nonGC.sample( n=\"depend your data\", random_state=1 )\n",
    "data = data.drop(nonGC_total.index)\n",
    "nonGC_total = nonGC_total.append(noise_nonGC, ignore_index=True)\n",
    "print(nonGC_total.shape)"
   ]
  },
  {
   "cell_type": "code",
   "execution_count": null,
   "metadata": {},
   "outputs": [],
   "source": [
    "print(data.shape)"
   ]
  },
  {
   "cell_type": "code",
   "execution_count": null,
   "metadata": {},
   "outputs": [],
   "source": [
    "training = GC_total.append(nonGC_total, ignore_index=True)"
   ]
  },
  {
   "cell_type": "code",
   "execution_count": null,
   "metadata": {},
   "outputs": [],
   "source": [
    "training.to_csv('training_data.csv', sep='\\t', encoding='utf-8', index=False)"
   ]
  },
  {
   "cell_type": "code",
   "execution_count": null,
   "metadata": {},
   "outputs": [],
   "source": []
  }
 ],
 "metadata": {
  "kernelspec": {
   "display_name": "Python 3",
   "language": "python",
   "name": "python3"
  },
  "language_info": {
   "codemirror_mode": {
    "name": "ipython",
    "version": 3
   },
   "file_extension": ".py",
   "mimetype": "text/x-python",
   "name": "python",
   "nbconvert_exporter": "python",
   "pygments_lexer": "ipython3",
   "version": "3.7.4"
  }
 },
 "nbformat": 4,
 "nbformat_minor": 2
}
